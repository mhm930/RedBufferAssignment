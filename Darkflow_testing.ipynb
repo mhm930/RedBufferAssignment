{
  "nbformat": 4,
  "nbformat_minor": 0,
  "metadata": {
    "colab": {
      "name": "Darkflow_testing.ipynb",
      "version": "0.3.2",
      "provenance": [],
      "include_colab_link": true
    },
    "kernelspec": {
      "name": "python3",
      "display_name": "Python 3"
    },
    "accelerator": "GPU"
  },
  "cells": [
    {
      "cell_type": "markdown",
      "metadata": {
        "id": "view-in-github",
        "colab_type": "text"
      },
      "source": [
        "<a href=\"https://colab.research.google.com/github/mhm930/RedBufferAssignment/blob/master/Darkflow_testing.ipynb\" target=\"_parent\"><img src=\"https://colab.research.google.com/assets/colab-badge.svg\" alt=\"Open In Colab\"/></a>"
      ]
    },
    {
      "cell_type": "markdown",
      "metadata": {
        "id": "vwsX-dGeiAV6",
        "colab_type": "text"
      },
      "source": [
        "git clone into the darkflow directory on github\n",
        "\n",
        "cd into the darkflow directory and run \"python3 setup.py build_ext --inplace\" to install darkflow\n",
        "\n",
        "And follow the otehr steps to install drakflow for this particular notebook \n",
        "\n",
        "Notes : % Before cd and ! before any other command"
      ]
    },
    {
      "cell_type": "code",
      "metadata": {
        "id": "pL-5vdXIitkh",
        "colab_type": "code",
        "outputId": "750e8f11-f96f-4c9b-a744-b9a0960f0506",
        "colab": {
          "base_uri": "https://localhost:8080/",
          "height": 102
        }
      },
      "source": [
        "!git clone https://github.com/thtrieu/darkflow"
      ],
      "execution_count": 1,
      "outputs": [
        {
          "output_type": "stream",
          "text": [
            "Cloning into 'darkflow'...\n",
            "remote: Enumerating objects: 2706, done.\u001b[K\n",
            "remote: Total 2706 (delta 0), reused 0 (delta 0), pack-reused 2706\u001b[K\n",
            "Receiving objects: 100% (2706/2706), 32.98 MiB | 9.17 MiB/s, done.\n",
            "Resolving deltas: 100% (1760/1760), done.\n"
          ],
          "name": "stdout"
        }
      ]
    },
    {
      "cell_type": "code",
      "metadata": {
        "id": "T0FmpqjCi_wY",
        "colab_type": "code",
        "outputId": "0ecdb5df-daf2-4509-b3f3-a852581c98e8",
        "colab": {
          "base_uri": "https://localhost:8080/",
          "height": 34
        }
      },
      "source": [
        "%cd darkflow"
      ],
      "execution_count": 2,
      "outputs": [
        {
          "output_type": "stream",
          "text": [
            "/content/darkflow\n"
          ],
          "name": "stdout"
        }
      ]
    },
    {
      "cell_type": "code",
      "metadata": {
        "id": "pJ2roUY6jG27",
        "colab_type": "code",
        "outputId": "de9583d7-0a06-4109-800d-cba40714b388",
        "colab": {
          "base_uri": "https://localhost:8080/",
          "height": 938
        }
      },
      "source": [
        "!python3 setup.py build_ext --inplace"
      ],
      "execution_count": 3,
      "outputs": [
        {
          "output_type": "stream",
          "text": [
            "Compiling darkflow/cython_utils/nms.pyx because it changed.\n",
            "Compiling darkflow/cython_utils/cy_yolo2_findboxes.pyx because it changed.\n",
            "Compiling darkflow/cython_utils/cy_yolo_findboxes.pyx because it changed.\n",
            "[1/3] Cythonizing darkflow/cython_utils/cy_yolo2_findboxes.pyx\n",
            "/usr/local/lib/python3.6/dist-packages/Cython/Compiler/Main.py:369: FutureWarning: Cython directive 'language_level' not set, using 2 for now (Py2). This will change in a later release! File: /content/darkflow/darkflow/cython_utils/cy_yolo2_findboxes.pyx\n",
            "  tree = Parsing.p_module(s, pxd, full_module_name)\n",
            "[2/3] Cythonizing darkflow/cython_utils/cy_yolo_findboxes.pyx\n",
            "/usr/local/lib/python3.6/dist-packages/Cython/Compiler/Main.py:369: FutureWarning: Cython directive 'language_level' not set, using 2 for now (Py2). This will change in a later release! File: /content/darkflow/darkflow/cython_utils/cy_yolo_findboxes.pyx\n",
            "  tree = Parsing.p_module(s, pxd, full_module_name)\n",
            "[3/3] Cythonizing darkflow/cython_utils/nms.pyx\n",
            "/usr/local/lib/python3.6/dist-packages/Cython/Compiler/Main.py:369: FutureWarning: Cython directive 'language_level' not set, using 2 for now (Py2). This will change in a later release! File: /content/darkflow/darkflow/cython_utils/nms.pxd\n",
            "  tree = Parsing.p_module(s, pxd, full_module_name)\n",
            "running build_ext\n",
            "building 'darkflow.cython_utils.nms' extension\n",
            "creating build\n",
            "creating build/temp.linux-x86_64-3.6\n",
            "creating build/temp.linux-x86_64-3.6/darkflow\n",
            "creating build/temp.linux-x86_64-3.6/darkflow/cython_utils\n",
            "x86_64-linux-gnu-gcc -pthread -DNDEBUG -g -fwrapv -O2 -Wall -g -fstack-protector-strong -Wformat -Werror=format-security -Wdate-time -D_FORTIFY_SOURCE=2 -fPIC -I/usr/local/lib/python3.6/dist-packages/numpy/core/include -I/usr/include/python3.6m -c darkflow/cython_utils/nms.c -o build/temp.linux-x86_64-3.6/darkflow/cython_utils/nms.o\n",
            "In file included from \u001b[01m\u001b[K/usr/local/lib/python3.6/dist-packages/numpy/core/include/numpy/ndarraytypes.h:1822:0\u001b[m\u001b[K,\n",
            "                 from \u001b[01m\u001b[K/usr/local/lib/python3.6/dist-packages/numpy/core/include/numpy/ndarrayobject.h:12\u001b[m\u001b[K,\n",
            "                 from \u001b[01m\u001b[K/usr/local/lib/python3.6/dist-packages/numpy/core/include/numpy/arrayobject.h:4\u001b[m\u001b[K,\n",
            "                 from \u001b[01m\u001b[Kdarkflow/cython_utils/nms.c:620\u001b[m\u001b[K:\n",
            "\u001b[01m\u001b[K/usr/local/lib/python3.6/dist-packages/numpy/core/include/numpy/npy_1_7_deprecated_api.h:17:2:\u001b[m\u001b[K \u001b[01;35m\u001b[Kwarning: \u001b[m\u001b[K#warning \"Using deprecated NumPy API, disable it with \" \"#define NPY_NO_DEPRECATED_API NPY_1_7_API_VERSION\" [\u001b[01;35m\u001b[K-Wcpp\u001b[m\u001b[K]\n",
            " #\u001b[01;35m\u001b[Kwarning\u001b[m\u001b[K \"Using deprecated NumPy API, disable it with \" \\\n",
            "  \u001b[01;35m\u001b[K^~~~~~~\u001b[m\u001b[K\n",
            "creating build/lib.linux-x86_64-3.6\n",
            "creating build/lib.linux-x86_64-3.6/darkflow\n",
            "creating build/lib.linux-x86_64-3.6/darkflow/cython_utils\n",
            "x86_64-linux-gnu-gcc -pthread -shared -Wl,-O1 -Wl,-Bsymbolic-functions -Wl,-Bsymbolic-functions -Wl,-z,relro -Wl,-Bsymbolic-functions -Wl,-z,relro -g -fstack-protector-strong -Wformat -Werror=format-security -Wdate-time -D_FORTIFY_SOURCE=2 build/temp.linux-x86_64-3.6/darkflow/cython_utils/nms.o -lm -o build/lib.linux-x86_64-3.6/darkflow/cython_utils/nms.cpython-36m-x86_64-linux-gnu.so\n",
            "building 'darkflow.cython_utils.cy_yolo2_findboxes' extension\n",
            "x86_64-linux-gnu-gcc -pthread -DNDEBUG -g -fwrapv -O2 -Wall -g -fstack-protector-strong -Wformat -Werror=format-security -Wdate-time -D_FORTIFY_SOURCE=2 -fPIC -I/usr/local/lib/python3.6/dist-packages/numpy/core/include -I/usr/include/python3.6m -c darkflow/cython_utils/cy_yolo2_findboxes.c -o build/temp.linux-x86_64-3.6/darkflow/cython_utils/cy_yolo2_findboxes.o\n",
            "In file included from \u001b[01m\u001b[K/usr/local/lib/python3.6/dist-packages/numpy/core/include/numpy/ndarraytypes.h:1822:0\u001b[m\u001b[K,\n",
            "                 from \u001b[01m\u001b[K/usr/local/lib/python3.6/dist-packages/numpy/core/include/numpy/ndarrayobject.h:12\u001b[m\u001b[K,\n",
            "                 from \u001b[01m\u001b[K/usr/local/lib/python3.6/dist-packages/numpy/core/include/numpy/arrayobject.h:4\u001b[m\u001b[K,\n",
            "                 from \u001b[01m\u001b[Kdarkflow/cython_utils/cy_yolo2_findboxes.c:620\u001b[m\u001b[K:\n",
            "\u001b[01m\u001b[K/usr/local/lib/python3.6/dist-packages/numpy/core/include/numpy/npy_1_7_deprecated_api.h:17:2:\u001b[m\u001b[K \u001b[01;35m\u001b[Kwarning: \u001b[m\u001b[K#warning \"Using deprecated NumPy API, disable it with \" \"#define NPY_NO_DEPRECATED_API NPY_1_7_API_VERSION\" [\u001b[01;35m\u001b[K-Wcpp\u001b[m\u001b[K]\n",
            " #\u001b[01;35m\u001b[Kwarning\u001b[m\u001b[K \"Using deprecated NumPy API, disable it with \" \\\n",
            "  \u001b[01;35m\u001b[K^~~~~~~\u001b[m\u001b[K\n",
            "x86_64-linux-gnu-gcc -pthread -shared -Wl,-O1 -Wl,-Bsymbolic-functions -Wl,-Bsymbolic-functions -Wl,-z,relro -Wl,-Bsymbolic-functions -Wl,-z,relro -g -fstack-protector-strong -Wformat -Werror=format-security -Wdate-time -D_FORTIFY_SOURCE=2 build/temp.linux-x86_64-3.6/darkflow/cython_utils/cy_yolo2_findboxes.o -lm -o build/lib.linux-x86_64-3.6/darkflow/cython_utils/cy_yolo2_findboxes.cpython-36m-x86_64-linux-gnu.so\n",
            "building 'darkflow.cython_utils.cy_yolo_findboxes' extension\n",
            "x86_64-linux-gnu-gcc -pthread -DNDEBUG -g -fwrapv -O2 -Wall -g -fstack-protector-strong -Wformat -Werror=format-security -Wdate-time -D_FORTIFY_SOURCE=2 -fPIC -I/usr/local/lib/python3.6/dist-packages/numpy/core/include -I/usr/include/python3.6m -c darkflow/cython_utils/cy_yolo_findboxes.c -o build/temp.linux-x86_64-3.6/darkflow/cython_utils/cy_yolo_findboxes.o\n",
            "In file included from \u001b[01m\u001b[K/usr/local/lib/python3.6/dist-packages/numpy/core/include/numpy/ndarraytypes.h:1822:0\u001b[m\u001b[K,\n",
            "                 from \u001b[01m\u001b[K/usr/local/lib/python3.6/dist-packages/numpy/core/include/numpy/ndarrayobject.h:12\u001b[m\u001b[K,\n",
            "                 from \u001b[01m\u001b[K/usr/local/lib/python3.6/dist-packages/numpy/core/include/numpy/arrayobject.h:4\u001b[m\u001b[K,\n",
            "                 from \u001b[01m\u001b[Kdarkflow/cython_utils/cy_yolo_findboxes.c:620\u001b[m\u001b[K:\n",
            "\u001b[01m\u001b[K/usr/local/lib/python3.6/dist-packages/numpy/core/include/numpy/npy_1_7_deprecated_api.h:17:2:\u001b[m\u001b[K \u001b[01;35m\u001b[Kwarning: \u001b[m\u001b[K#warning \"Using deprecated NumPy API, disable it with \" \"#define NPY_NO_DEPRECATED_API NPY_1_7_API_VERSION\" [\u001b[01;35m\u001b[K-Wcpp\u001b[m\u001b[K]\n",
            " #\u001b[01;35m\u001b[Kwarning\u001b[m\u001b[K \"Using deprecated NumPy API, disable it with \" \\\n",
            "  \u001b[01;35m\u001b[K^~~~~~~\u001b[m\u001b[K\n",
            "x86_64-linux-gnu-gcc -pthread -shared -Wl,-O1 -Wl,-Bsymbolic-functions -Wl,-Bsymbolic-functions -Wl,-z,relro -Wl,-Bsymbolic-functions -Wl,-z,relro -g -fstack-protector-strong -Wformat -Werror=format-security -Wdate-time -D_FORTIFY_SOURCE=2 build/temp.linux-x86_64-3.6/darkflow/cython_utils/cy_yolo_findboxes.o -lm -o build/lib.linux-x86_64-3.6/darkflow/cython_utils/cy_yolo_findboxes.cpython-36m-x86_64-linux-gnu.so\n",
            "copying build/lib.linux-x86_64-3.6/darkflow/cython_utils/nms.cpython-36m-x86_64-linux-gnu.so -> darkflow/cython_utils\n",
            "copying build/lib.linux-x86_64-3.6/darkflow/cython_utils/cy_yolo2_findboxes.cpython-36m-x86_64-linux-gnu.so -> darkflow/cython_utils\n",
            "copying build/lib.linux-x86_64-3.6/darkflow/cython_utils/cy_yolo_findboxes.cpython-36m-x86_64-linux-gnu.so -> darkflow/cython_utils\n"
          ],
          "name": "stdout"
        }
      ]
    },
    {
      "cell_type": "code",
      "metadata": {
        "id": "nR9lgkikjTjN",
        "colab_type": "code",
        "outputId": "ea071d3f-e1cb-46ad-cefb-fb84ab102437",
        "colab": {
          "base_uri": "https://localhost:8080/",
          "height": 173
        }
      },
      "source": [
        "!pip install ."
      ],
      "execution_count": 4,
      "outputs": [
        {
          "output_type": "stream",
          "text": [
            "Processing /content/darkflow\n",
            "Building wheels for collected packages: darkflow\n",
            "  Building wheel for darkflow (setup.py) ... \u001b[?25l\u001b[?25hdone\n",
            "  Created wheel for darkflow: filename=darkflow-1.0.0-cp36-cp36m-linux_x86_64.whl size=831105 sha256=587e552b57380419cf7e591999b3233ac805496cc2764dc189a659ffa281469d\n",
            "  Stored in directory: /tmp/pip-ephem-wheel-cache-oo5w7yzq/wheels/2f/3a/c5/e84e79d73d5a73aa1b5129a66a40947d9d77a32ebed501e431\n",
            "Successfully built darkflow\n",
            "Installing collected packages: darkflow\n",
            "Successfully installed darkflow-1.0.0\n"
          ],
          "name": "stdout"
        }
      ]
    },
    {
      "cell_type": "markdown",
      "metadata": {
        "id": "EXFPCqBejY5G",
        "colab_type": "text"
      },
      "source": [
        "Dark flow successfully installed. Now importing to check the installation - **Training Part**\n",
        "\n"
      ]
    },
    {
      "cell_type": "code",
      "metadata": {
        "id": "W7wuIeTNjieo",
        "colab_type": "code",
        "outputId": "b62e0e6f-4ca0-494c-f0f9-6ef2dddeed7b",
        "colab": {
          "base_uri": "https://localhost:8080/",
          "height": 1000
        }
      },
      "source": [
        "import cv2\n",
        "from darkflow.net.build import TFNet\n",
        "import numpy as np\n",
        "import time\n",
        "\n",
        "option = {\n",
        "   'model': '/content/darkflow/cfg/tiny-yolo-voc.cfg',\n",
        "   'load': '/content/gdrive/My Drive/bin/tiny-yolo-voc.weights',\n",
        "   'threshold': 0.15,\n",
        "   'gpu': 1.0,\n",
        "   'annotation' :'/content/gdrive/My Drive/Annotations3xml',\n",
        "   'dataset' : '/content/gdrive/My Drive/Humanoid3',\n",
        "   'epoch': 100,\n",
        "   'train': True,\n",
        "    'batch' :8\n",
        "}\n",
        "\n",
        "tfnet = TFNet(option)\n",
        "tfnet.train()\n",
        "\n",
        "\n",
        "\n"
      ],
      "execution_count": 0,
      "outputs": [
        {
          "output_type": "stream",
          "text": [
            "Parsing ./cfg/tiny-yolo-voc.cfg\n",
            "Parsing /content/darkflow/cfg/tiny-yolo-voc.cfg\n",
            "Loading /content/gdrive/My Drive/bin/tiny-yolo-voc.weights ...\n",
            "Successfully identified 63471556 bytes\n",
            "Finished in 0.029654264450073242s\n",
            "Model has a VOC model name, loading VOC labels.\n",
            "\n",
            "Building net ...\n",
            "Source | Train? | Layer description                | Output size\n",
            "-------+--------+----------------------------------+---------------\n",
            "       |        | input                            | (?, 416, 416, 3)\n",
            " Load  |  Yep!  | conv 3x3p1_1  +bnorm  leaky      | (?, 416, 416, 16)\n",
            " Load  |  Yep!  | maxp 2x2p0_2                     | (?, 208, 208, 16)\n",
            " Load  |  Yep!  | conv 3x3p1_1  +bnorm  leaky      | (?, 208, 208, 32)\n",
            " Load  |  Yep!  | maxp 2x2p0_2                     | (?, 104, 104, 32)\n",
            " Load  |  Yep!  | conv 3x3p1_1  +bnorm  leaky      | (?, 104, 104, 64)\n",
            " Load  |  Yep!  | maxp 2x2p0_2                     | (?, 52, 52, 64)\n",
            " Load  |  Yep!  | conv 3x3p1_1  +bnorm  leaky      | (?, 52, 52, 128)\n",
            " Load  |  Yep!  | maxp 2x2p0_2                     | (?, 26, 26, 128)\n",
            " Load  |  Yep!  | conv 3x3p1_1  +bnorm  leaky      | (?, 26, 26, 256)\n",
            " Load  |  Yep!  | maxp 2x2p0_2                     | (?, 13, 13, 256)\n",
            " Load  |  Yep!  | conv 3x3p1_1  +bnorm  leaky      | (?, 13, 13, 512)\n",
            " Load  |  Yep!  | maxp 2x2p0_1                     | (?, 13, 13, 512)\n",
            " Load  |  Yep!  | conv 3x3p1_1  +bnorm  leaky      | (?, 13, 13, 1024)\n",
            " Load  |  Yep!  | conv 3x3p1_1  +bnorm  leaky      | (?, 13, 13, 1024)\n",
            " Load  |  Yep!  | conv 1x1p0_1    linear           | (?, 13, 13, 125)\n",
            "-------+--------+----------------------------------+---------------\n",
            "GPU mode with 1.0 usage\n",
            "/content/darkflow/cfg/tiny-yolo-voc.cfg loss hyper-parameters:\n",
            "\tH       = 13\n",
            "\tW       = 13\n",
            "\tbox     = 5\n",
            "\tclasses = 20\n",
            "\tscales  = [1.0, 5.0, 1.0, 1.0]\n",
            "Building /content/darkflow/cfg/tiny-yolo-voc.cfg loss\n",
            "Building /content/darkflow/cfg/tiny-yolo-voc.cfg train op\n",
            "Finished in 3.8092756271362305s\n",
            "\n",
            "\n",
            "/content/darkflow/cfg/tiny-yolo-voc.cfg parsing /content/gdrive/My Drive/Annotations3xml\n",
            "Parsing for ['aeroplane', 'bicycle', 'bird', 'boat', 'bottle', 'bus', 'car', 'cat', 'chair', 'cow', 'diningtable', 'dog', 'horse', 'motorbike', 'person', 'pottedplant', 'sheep', 'sofa', 'train', 'tvmonitor'] \n",
            "[====================>]100%  frame955.xml\n",
            "Statistics:\n",
            "Dataset size: 217\n",
            "Dataset of 217 instance(s)\n",
            "Training statistics: \n",
            "\tLearning rate : 1e-05\n",
            "\tBatch size    : 8\n",
            "\tEpoch number  : 100\n",
            "\tBackup every  : 2000\n",
            "step 1 - loss 0.2556941509246826 - moving ave loss 0.2556941509246826\n",
            "step 2 - loss 0.36313241720199585 - moving ave loss 0.26643797755241394\n",
            "step 3 - loss 0.17541320621967316 - moving ave loss 0.2573355004191399\n",
            "step 4 - loss 0.38405507802963257 - moving ave loss 0.2700074581801891\n",
            "step 5 - loss 0.22426235675811768 - moving ave loss 0.265432948037982\n",
            "step 6 - loss 0.24784988164901733 - moving ave loss 0.26367464139908553\n",
            "step 7 - loss 0.23592080175876617 - moving ave loss 0.2608992574350536\n",
            "step 8 - loss 0.348255455493927 - moving ave loss 0.26963487724094093\n",
            "step 9 - loss 0.33254605531692505 - moving ave loss 0.2759259950485393\n",
            "step 10 - loss 0.2387593686580658 - moving ave loss 0.27220933240949197\n",
            "step 11 - loss 0.18526127934455872 - moving ave loss 0.26351452710299866\n",
            "step 12 - loss 0.2374185025691986 - moving ave loss 0.2609049246496187\n",
            "step 13 - loss 0.21857285499572754 - moving ave loss 0.2566717176842296\n",
            "step 14 - loss 0.5378928184509277 - moving ave loss 0.2847938277608994\n",
            "step 15 - loss 0.4651767611503601 - moving ave loss 0.3028321210998455\n",
            "step 16 - loss 0.2852703630924225 - moving ave loss 0.3010759452991032\n",
            "step 17 - loss 0.2048344612121582 - moving ave loss 0.29145179689040873\n",
            "step 18 - loss 0.4540332555770874 - moving ave loss 0.30770994275907665\n",
            "step 19 - loss 0.2859729528427124 - moving ave loss 0.3055362437674402\n",
            "step 20 - loss 0.32415199279785156 - moving ave loss 0.3073978186704813\n",
            "step 21 - loss 0.3662034869194031 - moving ave loss 0.3132783854953735\n",
            "step 22 - loss 0.3157585859298706 - moving ave loss 0.3135264055388232\n",
            "step 23 - loss 0.24222689867019653 - moving ave loss 0.30639645485196054\n",
            "step 24 - loss 0.2815466523170471 - moving ave loss 0.30391147459846923\n",
            "step 25 - loss 0.2637757956981659 - moving ave loss 0.2998979067084389\n",
            "step 26 - loss 0.25049060583114624 - moving ave loss 0.29495717662070964\n",
            "step 27 - loss 0.44497114419937134 - moving ave loss 0.30995857337857585\n",
            "Finish 1 epoch(es)\n",
            "step 28 - loss 0.3294485807418823 - moving ave loss 0.3119075741149065\n",
            "step 29 - loss 0.3763134479522705 - moving ave loss 0.3183481614986429\n",
            "step 30 - loss 0.14983966946601868 - moving ave loss 0.3014973122953805\n",
            "step 31 - loss 0.24477189779281616 - moving ave loss 0.29582477084512404\n",
            "step 32 - loss 0.2862814962863922 - moving ave loss 0.2948704433892509\n",
            "step 33 - loss 0.1888056993484497 - moving ave loss 0.2842639689851708\n",
            "step 34 - loss 0.4275679588317871 - moving ave loss 0.29859436796983246\n",
            "step 35 - loss 0.3872387409210205 - moving ave loss 0.3074588052649513\n",
            "step 36 - loss 0.22701729834079742 - moving ave loss 0.2994146545725359\n",
            "step 37 - loss 0.4069362282752991 - moving ave loss 0.31016681194281226\n",
            "step 38 - loss 0.2397254854440689 - moving ave loss 0.30312267929293796\n",
            "step 39 - loss 0.31300872564315796 - moving ave loss 0.30411128392795994\n",
            "step 40 - loss 0.29457372426986694 - moving ave loss 0.3031575279621507\n",
            "step 41 - loss 0.260236918926239 - moving ave loss 0.2988654670585595\n",
            "step 42 - loss 0.21246494352817535 - moving ave loss 0.2902254147055211\n",
            "step 43 - loss 0.3298552632331848 - moving ave loss 0.29418839955828746\n",
            "step 44 - loss 0.28581109642982483 - moving ave loss 0.29335066924544123\n",
            "step 45 - loss 0.20232555270195007 - moving ave loss 0.2842481575910921\n",
            "step 46 - loss 0.2513370215892792 - moving ave loss 0.2809570439909108\n",
            "step 47 - loss 0.1714135706424713 - moving ave loss 0.27000269665606685\n"
          ],
          "name": "stdout"
        }
      ]
    },
    {
      "cell_type": "code",
      "metadata": {
        "id": "va6QRw6t__vr",
        "colab_type": "code",
        "outputId": "cfba434b-f2a0-438e-e45d-e67c004f4ff2",
        "colab": {
          "base_uri": "https://localhost:8080/",
          "height": 734
        }
      },
      "source": [
        "import cv2\n",
        "from darkflow.net.build import TFNet\n",
        "import numpy as np\n",
        "import time\n",
        "\n",
        "options = {\"model\": '/content/darkflow/cfg/tiny-yolo-voc.cfg',\n",
        "           \"load\": -1,\n",
        "           \"gpu\": 1.0}\n",
        "           \n",
        "tfnet2 = TFNet(options)\n",
        "tfnet2.load_from_ckpt()\n",
        "imgcv = cv2.imread(\"/content/gdrive/My Drive/training/images/1.jpg\")\n",
        "result = tfnet2.return_predict(imgcv)\n",
        "print(result)\n",
        "\n",
        "class_names = ['aeroplane','bicycle','bird','boat']\n",
        "num_classes = len(class_names)\n",
        "class_colors = []\n",
        "for i in range(0, num_classes):\n",
        "    hue = 255*i/num_classes\n",
        "    col = np.zeros((1,1,3)).astype(\"uint8\")\n",
        "    col[0][0][0] = hue\n",
        "    col[0][0][1] = 128\n",
        "    col[0][0][2] = 255\n",
        "    cvcol = cv2.cvtColor(col, cv2.COLOR_HSV2BGR)\n",
        "    col = (int(cvcol[0][0][0]), int(cvcol[0][0][1]), int(cvcol[0][0][2]))\n",
        "    class_colors.append(col)\n",
        "    \n",
        "    print (class_colors)\n",
        "    \n",
        "for item in result:\n",
        "    tlx = item['topleft']['x']\n",
        "    tly = item['topleft']['y']\n",
        "    brx = item['bottomright']['x']\n",
        "    bry = item['bottomright']['y']\n",
        "    label = item['label']\n",
        "    conf = item['confidence']\n",
        "    print (conf)\n",
        "    \n",
        "    if conf > 0.6:\n",
        "    \n",
        "        for i in class_names:\n",
        "            if label == i:\n",
        "                class_num = class_names.index(i)\n",
        "                break\n",
        "\n",
        "    \n",
        "        cv2.rectangle(imgcv, (tlx, tly), (brx, bry), class_colors[class_num], 2)\n",
        "    \n",
        "        text = label + \" \" + ('%.2f' % conf)\n",
        "        cv2.rectangle(imgcv, (tlx, tly - 15), (tlx + 100, tly + 5), class_colors[class_num], -1)\n",
        "        cv2.putText(imgcv, text, (tlx, tly), cv2.FONT_HERSHEY_SIMPLEX, 0.5, (0,0,0), 1)\n",
        "#cv2.imshow(\"imagecv\",imgcv)\n",
        "#cv2.waitKey()\n",
        "cv2.imwrite('imagecv.jpg',imgcv)"
      ],
      "execution_count": 12,
      "outputs": [
        {
          "output_type": "stream",
          "text": [
            "Parsing /content/darkflow/cfg/tiny-yolo-voc.cfg\n",
            "Loading None ...\n",
            "Finished in 0.00018930435180664062s\n",
            "Model has a VOC model name, loading VOC labels.\n",
            "\n",
            "Building net ...\n",
            "Source | Train? | Layer description                | Output size\n",
            "-------+--------+----------------------------------+---------------\n",
            "       |        | input                            | (?, 416, 416, 3)\n",
            " Init  |  Yep!  | conv 3x3p1_1  +bnorm  leaky      | (?, 416, 416, 16)\n",
            " Load  |  Yep!  | maxp 2x2p0_2                     | (?, 208, 208, 16)\n",
            " Init  |  Yep!  | conv 3x3p1_1  +bnorm  leaky      | (?, 208, 208, 32)\n",
            " Load  |  Yep!  | maxp 2x2p0_2                     | (?, 104, 104, 32)\n",
            " Init  |  Yep!  | conv 3x3p1_1  +bnorm  leaky      | (?, 104, 104, 64)\n",
            " Load  |  Yep!  | maxp 2x2p0_2                     | (?, 52, 52, 64)\n",
            " Init  |  Yep!  | conv 3x3p1_1  +bnorm  leaky      | (?, 52, 52, 128)\n",
            " Load  |  Yep!  | maxp 2x2p0_2                     | (?, 26, 26, 128)\n",
            " Init  |  Yep!  | conv 3x3p1_1  +bnorm  leaky      | (?, 26, 26, 256)\n",
            " Load  |  Yep!  | maxp 2x2p0_2                     | (?, 13, 13, 256)\n",
            " Init  |  Yep!  | conv 3x3p1_1  +bnorm  leaky      | (?, 13, 13, 512)\n",
            " Load  |  Yep!  | maxp 2x2p0_1                     | (?, 13, 13, 512)\n",
            " Init  |  Yep!  | conv 3x3p1_1  +bnorm  leaky      | (?, 13, 13, 1024)\n",
            " Init  |  Yep!  | conv 3x3p1_1  +bnorm  leaky      | (?, 13, 13, 1024)\n",
            " Init  |  Yep!  | conv 1x1p0_1    linear           | (?, 13, 13, 125)\n",
            "-------+--------+----------------------------------+---------------\n",
            "GPU mode with 1.0 usage\n"
          ],
          "name": "stdout"
        },
        {
          "output_type": "stream",
          "text": [
            "W0820 08:15:15.107660 139956537964416 deprecation.py:323] From /usr/local/lib/python3.6/dist-packages/tensorflow/python/training/saver.py:1276: checkpoint_exists (from tensorflow.python.training.checkpoint_management) is deprecated and will be removed in a future version.\n",
            "Instructions for updating:\n",
            "Use standard file APIs to check for files with this prefix.\n"
          ],
          "name": "stderr"
        },
        {
          "output_type": "stream",
          "text": [
            "Loading from ./ckpt/tiny-yolo-voc-100\n",
            "Finished in 2.1694631576538086s\n",
            "\n",
            "Loading from ./ckpt/tiny-yolo-voc-100\n",
            "[{'label': 'bicycle', 'confidence': 0.8824437, 'topleft': {'x': 105, 'y': 90}, 'bottomright': {'x': 244, 'y': 235}}, {'label': 'person', 'confidence': 0.8554902, 'topleft': {'x': 127, 'y': 25}, 'bottomright': {'x': 235, 'y': 178}}]\n",
            "[(127, 127, 255)]\n",
            "[(127, 127, 255), (140, 255, 127)]\n",
            "[(127, 127, 255), (140, 255, 127), (255, 127, 157)]\n",
            "[(127, 127, 255), (140, 255, 127), (255, 127, 157), (127, 174, 255)]\n",
            "0.8824437\n",
            "0.8554902\n"
          ],
          "name": "stdout"
        },
        {
          "output_type": "execute_result",
          "data": {
            "text/plain": [
              "True"
            ]
          },
          "metadata": {
            "tags": []
          },
          "execution_count": 12
        }
      ]
    },
    {
      "cell_type": "code",
      "metadata": {
        "id": "k1Lx8cW_-yPv",
        "colab_type": "code",
        "colab": {}
      },
      "source": [
        "!mkdir ckpt"
      ],
      "execution_count": 0,
      "outputs": []
    },
    {
      "cell_type": "code",
      "metadata": {
        "id": "ObUvVZFjlRxv",
        "colab_type": "code",
        "outputId": "870af6f2-0316-4359-c4ac-25392d15b7d7",
        "colab": {
          "base_uri": "https://localhost:8080/",
          "height": 122
        }
      },
      "source": [
        "from google.colab import drive\n",
        "drive.mount('/content/gdrive')"
      ],
      "execution_count": 8,
      "outputs": [
        {
          "output_type": "stream",
          "text": [
            "Go to this URL in a browser: https://accounts.google.com/o/oauth2/auth?client_id=947318989803-6bn6qk8qdgf4n4g3pfee6491hc0brc4i.apps.googleusercontent.com&redirect_uri=urn%3Aietf%3Awg%3Aoauth%3A2.0%3Aoob&scope=email%20https%3A%2F%2Fwww.googleapis.com%2Fauth%2Fdocs.test%20https%3A%2F%2Fwww.googleapis.com%2Fauth%2Fdrive%20https%3A%2F%2Fwww.googleapis.com%2Fauth%2Fdrive.photos.readonly%20https%3A%2F%2Fwww.googleapis.com%2Fauth%2Fpeopleapi.readonly&response_type=code\n",
            "\n",
            "Enter your authorization code:\n",
            "··········\n",
            "Mounted at /content/gdrive\n"
          ],
          "name": "stdout"
        }
      ]
    },
    {
      "cell_type": "code",
      "metadata": {
        "id": "YSveHZsTm5Ph",
        "colab_type": "code",
        "outputId": "9326d288-4766-48a7-c61a-06623748fbb7",
        "colab": {
          "base_uri": "https://localhost:8080/",
          "height": 1156
        }
      },
      "source": [
        "!ls \"/content/gdrive/My Drive\""
      ],
      "execution_count": 0,
      "outputs": [
        {
          "output_type": "stream",
          "text": [
            " 1308964847.672338131.dat\n",
            " 14-F-MS_CP-09_Final_submission.docx\n",
            "'3D reconstructon step by step.pdf'\n",
            "'Annotation Software.rar'\n",
            " Answers_to_mail.docx\n",
            " App_Maham_Khan.zip\n",
            "'card data'\n",
            "'Colab Notebooks'\n",
            "'Computer vision'\n",
            "'Copy of Project Description.gdoc'\n",
            " Current_GUI.rar\n",
            " data_new.7z\n",
            " Dataset_17_10_2017.rar\n",
            " Dataset.rar\n",
            " Dataset_Software.rar\n",
            " daum_equation_1399736974316.png\n",
            " DemoExecutable+sourcecode.rar\n",
            " Demo-Executable.zip\n",
            " DemoIMU_GraphicalRepresentation.rar\n",
            "'Depth Images.zip'\n",
            " dist\n",
            " DonaldTrumpSpeech.wav\n",
            " Electric_Machinery_Fundamentals_4th_Edition.rar\n",
            " Executable_Application.rar\n",
            " Feature_Calculation.py\n",
            " Final.pdf\n",
            "'GUI Developement (1).rar'\n",
            "'GUI Developement.rar'\n",
            " GUI_updated_2.rar\n",
            " GUI_updated_3.rar\n",
            " HuDroid-0.1-debug.apk\n",
            "'Human Recognition Software-0.0.1.rar'\n",
            "'Human Recognition Software-0.0.2.zip'\n",
            " Images_26_3_2018.zip\n",
            " Images2Excel-6.0.0.rar\n",
            "'Images2Excel-7.0.0(IMU) (1).rar'\n",
            "'Images2Excel-7.0.0(IMU).rar'\n",
            "'Images2Excel-7.0.0(IMU).zip'\n",
            "'Left Images.zip'\n",
            " Lucidchart\n",
            "'Maham Khan_application.pdf'\n",
            " MainGIU.ui\n",
            " Main_Methodlogy_1_report.pdf\n",
            " MATLAB_code_files.rar\n",
            " Midterm.pdf\n",
            "'Multi camera object tracking.pdf'\n",
            "'Mutlicamera object tracking'\n",
            "'New Doc 2017-07-20.pdf'\n",
            " nltk_data.zip\n",
            " PAFslip.pdf\n",
            " Percentage.gsheet\n",
            " pics\n",
            "'Project Description.gdoc'\n",
            " retrained_graph.pb\n",
            "'Sample Images'\n",
            " Sample_Images-2016-08-03.zip\n",
            "'Scan docs'\n",
            "'searchbysearch (1).zip'\n",
            " searchbysearch.apk\n",
            " searchbysearch.zip\n",
            " Software-0.0.2.zip\n",
            " Software-0.0.3.zip\n",
            " Software.rar\n",
            " Submission_17_10_2017\n",
            " Test_results_17_10_2017.rar\n",
            "'Untitled document.gdoc'\n",
            " zernike_chriswolf.tgz\n"
          ],
          "name": "stdout"
        }
      ]
    }
  ]
}